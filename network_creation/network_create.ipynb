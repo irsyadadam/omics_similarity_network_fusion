{
 "cells": [
  {
   "cell_type": "code",
   "execution_count": 1,
   "metadata": {},
   "outputs": [],
   "source": [
    "import pandas as pd\n",
    "import numpy as np\n",
    "\n",
    "import scanpy as sc # to read seurat object (so.Robj)\n",
    "import scipy\n",
    "import anndata\n",
    "\n",
    "import matplotlib.pyplot as plt\n",
    "import seaborn as sns\n",
    "import fastcluster\n",
    "\n",
    "from tqdm import tqdm\n",
    "\n",
    "#default plt to sns\n",
    "sns.set(font_scale = 1.5)\n",
    "sns.set_theme()\n",
    "\n",
    "import os\n",
    "\n",
    "from neo4j import GraphDatabase"
   ]
  },
  {
   "cell_type": "code",
   "execution_count": 2,
   "metadata": {},
   "outputs": [],
   "source": [
    "driver = GraphDatabase.driver(uri = \"bolt://localhost:7687\", auth = (\"neo4j\",\"snf\"))\n",
    "driver.verify_connectivity()"
   ]
  },
  {
   "cell_type": "markdown",
   "metadata": {},
   "source": [
    "## Constraints"
   ]
  },
  {
   "cell_type": "code",
   "execution_count": 3,
   "metadata": {},
   "outputs": [],
   "source": [
    "query = \"CREATE CONSTRAINT ON (c:cardiomyocite) ASSERT c.id  IS UNIQUE\"\n",
    "        \n",
    "with driver.session() as session:\n",
    "    info = session.run(query)"
   ]
  },
  {
   "cell_type": "markdown",
   "metadata": {},
   "source": [
    "## Deploying Nodes"
   ]
  },
  {
   "cell_type": "code",
   "execution_count": 4,
   "metadata": {},
   "outputs": [
    {
     "name": "stdout",
     "output_type": "stream",
     "text": [
      "ETA: ~40 sec\n"
     ]
    },
    {
     "name": "stderr",
     "output_type": "stream",
     "text": [
      "/Users/pinglab/opt/anaconda3/envs/omics_network_creation/lib/python3.10/site-packages/anndata/compat/__init__.py:232: FutureWarning: Moving element from .uns['neighbors']['distances'] to .obsp['distances'].\n",
      "\n",
      "This is where adjacency matrices should go now.\n",
      "  warn(\n"
     ]
    },
    {
     "name": "stdout",
     "output_type": "stream",
     "text": [
      "h5ad import successful \n",
      "\n",
      "first 5 genes: ['TTN' 'LOC100513133' 'LOC110257246' 'CTDSP1' 'ANKRD1']\n",
      "sample metadata: ['AR1_MI28_P30_8064AZ' 'AR1_MI28_P30_8064AZ' 'AR1_MI28_P30_8064AZ'\n",
      " 'AR1_MI28_P30_8064AZ' 'AR1_MI28_P30_8064AZ']\n"
     ]
    }
   ],
   "source": [
    "#read data\n",
    "print(\"ETA: ~40 sec\")\n",
    "h5ad = \"../scrna_data/stage5.h5ad\"\n",
    "seurat_clusters = sc.read_h5ad(h5ad)\n",
    "print(\"h5ad import successful \\n\")\n",
    "\n",
    "#extracting metadata\n",
    "metadata = sc.get.obs_df(seurat_clusters, keys = ['orig.ident', 'nCount_RNA', 'nFeature_RNA', 'percent.mt', 'percent.rpl', 'percent.rps', 'time', 'location', 'RNA_snn_res.0.5', 'seurat_clusters', 'RNA_snn_res.1.8'])\n",
    "\n",
    "#genes\n",
    "gene_index = seurat_clusters.var.index.to_numpy()\n",
    "print(\"first 5 genes:\", gene_index[0:5])\n",
    "\n",
    "#metadata\n",
    "orig_ident = metadata[\"orig.ident\"].to_numpy()\n",
    "ident_index = metadata.index.to_numpy()\n",
    "print(\"sample metadata:\", orig_ident[0:5])\n",
    "\n",
    "#expression matrix\n",
    "expr_data = scipy.sparse.csc_matrix(seurat_clusters.X)\n",
    "print(\"\\nexpr_data:\", expr_data.shape)\n",
    "\n",
    "#NOTE: EXPR DATA IS SCIPY SPARSE MATRIX\n",
    "\n",
    "#SPARSE DATA FRAME CAUSE FILE TOO BIG\n",
    "#expr_data = expr_data.tocsc()\n",
    "gene_expr_data = pd.DataFrame.sparse.from_spmatrix(expr_data)\n",
    "print(\"gene df:\", gene_expr_data.shape)\n",
    "\n",
    "#replace index, column headings\n",
    "gene_expr_data.index = ident_index\n",
    "gene_expr_data.columns = gene_index\n",
    "gene_expr_data[\"ident\"] = orig_ident\n"
   ]
  },
  {
   "cell_type": "markdown",
   "metadata": {},
   "source": [
    "Filter Data/Metadata"
   ]
  },
  {
   "cell_type": "code",
   "execution_count": null,
   "metadata": {},
   "outputs": [
    {
     "name": "stdout",
     "output_type": "stream",
     "text": [
      "Control Model:\n",
      "day1: ['CTL-P1_8026_p1', 'CTL-P1_8095', 'CTL-P1_8094']\n",
      "control_day28: ['CTL-P28_8046_BZ', 'CTL-P28_8046_RZ']\n",
      "control_day56: ['CTL-P56_8052_RZ', 'CTL-P56_8052_AZ']\n",
      "\n",
      "First Injury Model:\n",
      "day1: ['CTL-P1_8026_p1', 'CTL-P1_8095', 'CTL-P1_8094']\n",
      "first_injury_day28: ['AR1_P28_8014RZ', 'AR1_P28_8014BZ', 'AR1_P28_\\t8030_CZ', 'AR1_P28_8030_RZ']\n",
      "first_injury_day56: ['AR1_P56_8096CZ', 'AR1_P56_8097RZ', 'AR1_P56_8097CZ', 'AR1_P56_8096RZ']\n",
      "\n",
      "Double Injury Model:\n",
      "day1: ['CTL-P1_8026_p1', 'CTL-P1_8095', 'CTL-P1_8094']\n",
      "first_injury_day28: ['AR1_P28_8014RZ', 'AR1_P28_8014BZ', 'AR1_P28_\\t8030_CZ', 'AR1_P28_8030_RZ']\n",
      "double_injury_day30: ['AR1_MI28_P30_8064CZ', 'AR1_MI28_P30_8064RZ', 'AR1_MI28_P30_8064AZ']\n",
      "double_injury_day35: ['AR1_MI28_P35_8065AZ', 'AR1_MI28_P35_8065RZ', 'AR1_MI28_P35_8095BZ', 'AR1_MI28_P35_8095RZ', 'AR1_MI28_P35_8065CZ']\n",
      "double_injury_day42: ['AR1_MI28_P42_8094AZ', 'AR1_MI28_P42_8094RZ', 'AR1_MI28_P42_8094BZ']\n",
      "double_injury_day56: ['AR1_MI28_P56_7995_RZ', 'AR1_MI28_P56_8060RZ', 'AR1_MI28_P56_8060IZ', 'AR1_MI28_P56_7995_BZ', 'AR1_MI28_P56_8060AZ']\n"
     ]
    }
   ],
   "source": [
    "double_injury_stages = set(orig_ident)\n",
    "double_injury_stages = list(double_injury_stages)\n",
    "\n",
    "day1 = [i for i in double_injury_stages if \"CTL-P1\" in i]\n",
    "control_day28 = [i for i in double_injury_stages if \"CTL-P28\" in i]\n",
    "control_day56 = [i for i in double_injury_stages if \"CTL-P56\" in i]\n",
    "control_model = [day1, control_day28, control_day56]\n",
    "\n",
    "print(\"Control Model:\")\n",
    "print(\"day1:\", day1)\n",
    "print(\"control_day28:\", control_day28[0:5])\n",
    "print(\"control_day56:\", control_day56[0:5])\n",
    "\n",
    "\n",
    "first_injury_day28 = [i for i in double_injury_stages if \"AR1_P28\" in i]\n",
    "first_injury_day56 = [i for i in double_injury_stages if \"AR1_P56\" in i]\n",
    "single_injury_model = [day1, first_injury_day28, first_injury_day56]\n",
    "\n",
    "print(\"\\nFirst Injury Model:\")\n",
    "print(\"day1:\", day1)\n",
    "print(\"first_injury_day28:\", first_injury_day28[0:5])\n",
    "print(\"first_injury_day56:\", first_injury_day56[0:5])\n",
    "\n",
    "double_injury_day28 = first_injury_day28\n",
    "double_injury_day30 = [i for i in double_injury_stages if \"AR1_MI28_P30\" in i]\n",
    "double_injury_day35 = [i for i in double_injury_stages if \"AR1_MI28_P35\" in i]\n",
    "double_injury_day42 = [i for i in double_injury_stages if \"AR1_MI28_P42\" in i]\n",
    "double_injury_day56 = [i for i in double_injury_stages if \"AR1_MI28_P56\" in i]\n",
    "double_injury_model = [day1, double_injury_day28, double_injury_day30, double_injury_day35, double_injury_day42, double_injury_day56]\n",
    "\n",
    "print(\"\\nDouble Injury Model:\")\n",
    "print(\"day1:\", day1)\n",
    "print(\"first_injury_day28:\", first_injury_day28[0:5])\n",
    "print(\"double_injury_day30:\", double_injury_day30[0:5])\n",
    "print(\"double_injury_day35:\", double_injury_day35[0:5])\n",
    "print(\"double_injury_day42:\", double_injury_day42[0:5])\n",
    "print(\"double_injury_day56:\", double_injury_day56[0:5])"
   ]
  },
  {
   "cell_type": "code",
   "execution_count": null,
   "metadata": {},
   "outputs": [
    {
     "name": "stdout",
     "output_type": "stream",
     "text": [
      "['CTL-P1_8026_p1', 'CTL-P1_8095', 'CTL-P1_8094', 'AR1_P28_8014RZ', 'AR1_P28_8014BZ', 'AR1_P28_\\t8030_CZ', 'AR1_P28_8030_RZ', 'AR1_MI28_P30_8064CZ', 'AR1_MI28_P30_8064RZ', 'AR1_MI28_P30_8064AZ', 'AR1_MI28_P35_8065AZ', 'AR1_MI28_P35_8065RZ', 'AR1_MI28_P35_8095BZ', 'AR1_MI28_P35_8095RZ', 'AR1_MI28_P35_8065CZ', 'AR1_MI28_P35_8095AZ', 'AR1_MI28_P42_8094AZ', 'AR1_MI28_P42_8094RZ', 'AR1_MI28_P42_8094BZ', 'AR1_MI28_P56_7995_RZ', 'AR1_MI28_P56_8060RZ', 'AR1_MI28_P56_8060IZ', 'AR1_MI28_P56_7995_BZ', 'AR1_MI28_P56_8060AZ']\n"
     ]
    }
   ],
   "source": [
    "control = []\n",
    "single_injury = []\n",
    "double_injury = []\n",
    "\n",
    "#iterate over each stage\n",
    "for i in control_model:\n",
    "    control += i\n",
    "\n",
    "for i in double_injury_model:\n",
    "    double_injury += i\n",
    "\n",
    "for i in single_injury_model:\n",
    "    single_injury += i\n",
    "\n",
    "print(double_injury)"
   ]
  },
  {
   "cell_type": "code",
   "execution_count": null,
   "metadata": {},
   "outputs": [
    {
     "data": {
      "text/html": [
       "<div>\n",
       "<style scoped>\n",
       "    .dataframe tbody tr th:only-of-type {\n",
       "        vertical-align: middle;\n",
       "    }\n",
       "\n",
       "    .dataframe tbody tr th {\n",
       "        vertical-align: top;\n",
       "    }\n",
       "\n",
       "    .dataframe thead th {\n",
       "        text-align: right;\n",
       "    }\n",
       "</style>\n",
       "<table border=\"1\" class=\"dataframe\">\n",
       "  <thead>\n",
       "    <tr style=\"text-align: right;\">\n",
       "      <th></th>\n",
       "      <th>orig.ident</th>\n",
       "    </tr>\n",
       "  </thead>\n",
       "  <tbody>\n",
       "    <tr>\n",
       "      <th>AR1_MI28_P30_8064AZ_TTTGTTGTCCATCTGC</th>\n",
       "      <td>AR1_MI28_P30_8064AZ</td>\n",
       "    </tr>\n",
       "    <tr>\n",
       "      <th>AR1_MI28_P30_8064AZ_TTTGTTGTCAAATGAG</th>\n",
       "      <td>AR1_MI28_P30_8064AZ</td>\n",
       "    </tr>\n",
       "    <tr>\n",
       "      <th>AR1_MI28_P30_8064AZ_TTTGTTGCATGGCCAC</th>\n",
       "      <td>AR1_MI28_P30_8064AZ</td>\n",
       "    </tr>\n",
       "    <tr>\n",
       "      <th>AR1_MI28_P30_8064AZ_TTTGTTGAGGGCAGAG</th>\n",
       "      <td>AR1_MI28_P30_8064AZ</td>\n",
       "    </tr>\n",
       "    <tr>\n",
       "      <th>AR1_MI28_P30_8064AZ_TTTGGTTTCACGTCCT</th>\n",
       "      <td>AR1_MI28_P30_8064AZ</td>\n",
       "    </tr>\n",
       "    <tr>\n",
       "      <th>...</th>\n",
       "      <td>...</td>\n",
       "    </tr>\n",
       "    <tr>\n",
       "      <th>FH_Embryo_FH3_TAAGCACTCATTGCGA</th>\n",
       "      <td>FH_Embryo_FH3</td>\n",
       "    </tr>\n",
       "    <tr>\n",
       "      <th>FH_Embryo_FH3_TAAGCCACAAGGTCGA</th>\n",
       "      <td>FH_Embryo_FH3</td>\n",
       "    </tr>\n",
       "    <tr>\n",
       "      <th>FH_Embryo_FH3_TCACATTTCTGGGCGT</th>\n",
       "      <td>FH_Embryo_FH3</td>\n",
       "    </tr>\n",
       "    <tr>\n",
       "      <th>FH_Embryo_FH3_TAAGCCATCGAAACAA</th>\n",
       "      <td>FH_Embryo_FH3</td>\n",
       "    </tr>\n",
       "    <tr>\n",
       "      <th>FH_Embryo_FH3_CTGGTCTGTCGCGTCA</th>\n",
       "      <td>FH_Embryo_FH3</td>\n",
       "    </tr>\n",
       "  </tbody>\n",
       "</table>\n",
       "<p>121239 rows × 1 columns</p>\n",
       "</div>"
      ],
      "text/plain": [
       "                                               orig.ident\n",
       "AR1_MI28_P30_8064AZ_TTTGTTGTCCATCTGC  AR1_MI28_P30_8064AZ\n",
       "AR1_MI28_P30_8064AZ_TTTGTTGTCAAATGAG  AR1_MI28_P30_8064AZ\n",
       "AR1_MI28_P30_8064AZ_TTTGTTGCATGGCCAC  AR1_MI28_P30_8064AZ\n",
       "AR1_MI28_P30_8064AZ_TTTGTTGAGGGCAGAG  AR1_MI28_P30_8064AZ\n",
       "AR1_MI28_P30_8064AZ_TTTGGTTTCACGTCCT  AR1_MI28_P30_8064AZ\n",
       "...                                                   ...\n",
       "FH_Embryo_FH3_TAAGCACTCATTGCGA              FH_Embryo_FH3\n",
       "FH_Embryo_FH3_TAAGCCACAAGGTCGA              FH_Embryo_FH3\n",
       "FH_Embryo_FH3_TCACATTTCTGGGCGT              FH_Embryo_FH3\n",
       "FH_Embryo_FH3_TAAGCCATCGAAACAA              FH_Embryo_FH3\n",
       "FH_Embryo_FH3_CTGGTCTGTCGCGTCA              FH_Embryo_FH3\n",
       "\n",
       "[121239 rows x 1 columns]"
      ]
     },
     "execution_count": 14,
     "metadata": {},
     "output_type": "execute_result"
    }
   ],
   "source": [
    "metadata = metadata.drop(columns=metadata.columns.to_list()[1:], axis = 1)\n",
    "metadata"
   ]
  },
  {
   "cell_type": "code",
   "execution_count": null,
   "metadata": {},
   "outputs": [
    {
     "name": "stderr",
     "output_type": "stream",
     "text": [
      "adding node data: 100%|██████████| 121239/121239 [00:00<00:00, 860687.69it/s]\n"
     ]
    },
    {
     "data": {
      "text/html": [
       "<div>\n",
       "<style scoped>\n",
       "    .dataframe tbody tr th:only-of-type {\n",
       "        vertical-align: middle;\n",
       "    }\n",
       "\n",
       "    .dataframe tbody tr th {\n",
       "        vertical-align: top;\n",
       "    }\n",
       "\n",
       "    .dataframe thead th {\n",
       "        text-align: right;\n",
       "    }\n",
       "</style>\n",
       "<table border=\"1\" class=\"dataframe\">\n",
       "  <thead>\n",
       "    <tr style=\"text-align: right;\">\n",
       "      <th></th>\n",
       "      <th>index</th>\n",
       "      <th>orig.ident</th>\n",
       "      <th>cell_day</th>\n",
       "      <th>experiment</th>\n",
       "      <th>id</th>\n",
       "    </tr>\n",
       "  </thead>\n",
       "  <tbody>\n",
       "    <tr>\n",
       "      <th>0</th>\n",
       "      <td>AR1_MI28_P30_8064AZ_TTTGTTGTCCATCTGC</td>\n",
       "      <td>AR1_MI28_P30_8064AZ</td>\n",
       "      <td>P3</td>\n",
       "      <td>double_injury</td>\n",
       "      <td>AR1_MI28_P30_8064AZ_TTTGTTGTCCATCTGC</td>\n",
       "    </tr>\n",
       "    <tr>\n",
       "      <th>1</th>\n",
       "      <td>AR1_MI28_P30_8064AZ_TTTGTTGTCAAATGAG</td>\n",
       "      <td>AR1_MI28_P30_8064AZ</td>\n",
       "      <td>P3</td>\n",
       "      <td>double_injury</td>\n",
       "      <td>AR1_MI28_P30_8064AZ_TTTGTTGTCAAATGAG</td>\n",
       "    </tr>\n",
       "    <tr>\n",
       "      <th>2</th>\n",
       "      <td>AR1_MI28_P30_8064AZ_TTTGTTGCATGGCCAC</td>\n",
       "      <td>AR1_MI28_P30_8064AZ</td>\n",
       "      <td>P3</td>\n",
       "      <td>double_injury</td>\n",
       "      <td>AR1_MI28_P30_8064AZ_TTTGTTGCATGGCCAC</td>\n",
       "    </tr>\n",
       "    <tr>\n",
       "      <th>3</th>\n",
       "      <td>AR1_MI28_P30_8064AZ_TTTGTTGAGGGCAGAG</td>\n",
       "      <td>AR1_MI28_P30_8064AZ</td>\n",
       "      <td>P3</td>\n",
       "      <td>double_injury</td>\n",
       "      <td>AR1_MI28_P30_8064AZ_TTTGTTGAGGGCAGAG</td>\n",
       "    </tr>\n",
       "    <tr>\n",
       "      <th>4</th>\n",
       "      <td>AR1_MI28_P30_8064AZ_TTTGGTTTCACGTCCT</td>\n",
       "      <td>AR1_MI28_P30_8064AZ</td>\n",
       "      <td>P3</td>\n",
       "      <td>double_injury</td>\n",
       "      <td>AR1_MI28_P30_8064AZ_TTTGGTTTCACGTCCT</td>\n",
       "    </tr>\n",
       "    <tr>\n",
       "      <th>...</th>\n",
       "      <td>...</td>\n",
       "      <td>...</td>\n",
       "      <td>...</td>\n",
       "      <td>...</td>\n",
       "      <td>...</td>\n",
       "    </tr>\n",
       "    <tr>\n",
       "      <th>121234</th>\n",
       "      <td>FH_Embryo_FH3_TAAGCACTCATTGCGA</td>\n",
       "      <td>FH_Embryo_FH3</td>\n",
       "      <td>NA</td>\n",
       "      <td>fetal</td>\n",
       "      <td>FH_Embryo_FH3_TAAGCACTCATTGCGA</td>\n",
       "    </tr>\n",
       "    <tr>\n",
       "      <th>121235</th>\n",
       "      <td>FH_Embryo_FH3_TAAGCCACAAGGTCGA</td>\n",
       "      <td>FH_Embryo_FH3</td>\n",
       "      <td>NA</td>\n",
       "      <td>fetal</td>\n",
       "      <td>FH_Embryo_FH3_TAAGCCACAAGGTCGA</td>\n",
       "    </tr>\n",
       "    <tr>\n",
       "      <th>121236</th>\n",
       "      <td>FH_Embryo_FH3_TCACATTTCTGGGCGT</td>\n",
       "      <td>FH_Embryo_FH3</td>\n",
       "      <td>NA</td>\n",
       "      <td>fetal</td>\n",
       "      <td>FH_Embryo_FH3_TCACATTTCTGGGCGT</td>\n",
       "    </tr>\n",
       "    <tr>\n",
       "      <th>121237</th>\n",
       "      <td>FH_Embryo_FH3_TAAGCCATCGAAACAA</td>\n",
       "      <td>FH_Embryo_FH3</td>\n",
       "      <td>NA</td>\n",
       "      <td>fetal</td>\n",
       "      <td>FH_Embryo_FH3_TAAGCCATCGAAACAA</td>\n",
       "    </tr>\n",
       "    <tr>\n",
       "      <th>121238</th>\n",
       "      <td>FH_Embryo_FH3_CTGGTCTGTCGCGTCA</td>\n",
       "      <td>FH_Embryo_FH3</td>\n",
       "      <td>NA</td>\n",
       "      <td>fetal</td>\n",
       "      <td>FH_Embryo_FH3_CTGGTCTGTCGCGTCA</td>\n",
       "    </tr>\n",
       "  </tbody>\n",
       "</table>\n",
       "<p>121239 rows × 5 columns</p>\n",
       "</div>"
      ],
      "text/plain": [
       "                                       index           orig.ident cell_day  \\\n",
       "0       AR1_MI28_P30_8064AZ_TTTGTTGTCCATCTGC  AR1_MI28_P30_8064AZ       P3   \n",
       "1       AR1_MI28_P30_8064AZ_TTTGTTGTCAAATGAG  AR1_MI28_P30_8064AZ       P3   \n",
       "2       AR1_MI28_P30_8064AZ_TTTGTTGCATGGCCAC  AR1_MI28_P30_8064AZ       P3   \n",
       "3       AR1_MI28_P30_8064AZ_TTTGTTGAGGGCAGAG  AR1_MI28_P30_8064AZ       P3   \n",
       "4       AR1_MI28_P30_8064AZ_TTTGGTTTCACGTCCT  AR1_MI28_P30_8064AZ       P3   \n",
       "...                                      ...                  ...      ...   \n",
       "121234        FH_Embryo_FH3_TAAGCACTCATTGCGA        FH_Embryo_FH3       NA   \n",
       "121235        FH_Embryo_FH3_TAAGCCACAAGGTCGA        FH_Embryo_FH3       NA   \n",
       "121236        FH_Embryo_FH3_TCACATTTCTGGGCGT        FH_Embryo_FH3       NA   \n",
       "121237        FH_Embryo_FH3_TAAGCCATCGAAACAA        FH_Embryo_FH3       NA   \n",
       "121238        FH_Embryo_FH3_CTGGTCTGTCGCGTCA        FH_Embryo_FH3       NA   \n",
       "\n",
       "           experiment                                    id  \n",
       "0       double_injury  AR1_MI28_P30_8064AZ_TTTGTTGTCCATCTGC  \n",
       "1       double_injury  AR1_MI28_P30_8064AZ_TTTGTTGTCAAATGAG  \n",
       "2       double_injury  AR1_MI28_P30_8064AZ_TTTGTTGCATGGCCAC  \n",
       "3       double_injury  AR1_MI28_P30_8064AZ_TTTGTTGAGGGCAGAG  \n",
       "4       double_injury  AR1_MI28_P30_8064AZ_TTTGGTTTCACGTCCT  \n",
       "...               ...                                   ...  \n",
       "121234          fetal        FH_Embryo_FH3_TAAGCACTCATTGCGA  \n",
       "121235          fetal        FH_Embryo_FH3_TAAGCCACAAGGTCGA  \n",
       "121236          fetal        FH_Embryo_FH3_TCACATTTCTGGGCGT  \n",
       "121237          fetal        FH_Embryo_FH3_TAAGCCATCGAAACAA  \n",
       "121238          fetal        FH_Embryo_FH3_CTGGTCTGTCGCGTCA  \n",
       "\n",
       "[121239 rows x 5 columns]"
      ]
     },
     "execution_count": 15,
     "metadata": {},
     "output_type": "execute_result"
    }
   ],
   "source": [
    "#experiment and day columns\n",
    "from curses import meta\n",
    "\n",
    "\n",
    "experiment = []\n",
    "cell_day = []\n",
    "\n",
    "for i in tqdm(metadata[\"orig.ident\"], desc = \"adding node data\"):\n",
    "    #find metadata\n",
    "    if i in control: \n",
    "        experiment.append(\"control\")\n",
    "    elif i in single_injury: \n",
    "        experiment.append(\"single_injury\")\n",
    "    elif i in double_injury: \n",
    "        experiment.append(\"double_injury\")\n",
    "    else:\n",
    "        experiment.append(\"fetal\")\n",
    "\n",
    "    #find cell day\n",
    "    if \"P\" in i:\n",
    "        day = i[i.find(\"P\"): i.find(\"P\") + 3]\n",
    "        day = day.strip(\"_\")\n",
    "        cell_day.append(day)\n",
    "    else:\n",
    "        cell_day.append(\"NA\")\n",
    "\n",
    "metadata[\"cell_day\"] = cell_day\n",
    "metadata[\"experiment\"] = experiment\n",
    "metadata[\"id\"] = metadata.index.to_list()\n",
    "metadata = metadata.reset_index()\n",
    "metadata"
   ]
  },
  {
   "cell_type": "markdown",
   "metadata": {},
   "source": [
    "Deploy Nodes"
   ]
  },
  {
   "cell_type": "code",
   "execution_count": null,
   "metadata": {},
   "outputs": [],
   "source": [
    "def create_nodes(tx, uid, orig_ident, cell_day, experiment) ->  None:\n",
    "    query = \"MERGE (p:cardiomyocite {id: $uid, orig_ident: $orig_ident, cell_day: $cell_day, experiment: $experiment})\"\n",
    "    tx.run(query, uid = uid, orig_ident = orig_ident, cell_day = cell_day, experiment = experiment)"
   ]
  },
  {
   "cell_type": "code",
   "execution_count": null,
   "metadata": {},
   "outputs": [
    {
     "name": "stderr",
     "output_type": "stream",
     "text": [
      "deploying nodes:   2%|▏         | 2330/121239 [01:11<1:00:31, 32.74it/s]\n"
     ]
    },
    {
     "ename": "KeyboardInterrupt",
     "evalue": "",
     "output_type": "error",
     "traceback": [
      "\u001b[0;31m---------------------------------------------------------------------------\u001b[0m",
      "\u001b[0;31mKeyboardInterrupt\u001b[0m                         Traceback (most recent call last)",
      "\u001b[1;32m/Users/pinglab/Documents/irsyadadam/omics_similarity_network_fusion/network_creation/network_create.ipynb Cell 14\u001b[0m in \u001b[0;36m<cell line: 1>\u001b[0;34m()\u001b[0m\n\u001b[1;32m      <a href='vscode-notebook-cell:/Users/pinglab/Documents/irsyadadam/omics_similarity_network_fusion/network_creation/network_create.ipynb#X12sZmlsZQ%3D%3D?line=0'>1</a>\u001b[0m \u001b[39mfor\u001b[39;00m i \u001b[39min\u001b[39;00m tqdm(\u001b[39mrange\u001b[39m(\u001b[39mlen\u001b[39m(metadata)), desc \u001b[39m=\u001b[39m \u001b[39m\"\u001b[39m\u001b[39mdeploying nodes\u001b[39m\u001b[39m\"\u001b[39m):\n\u001b[0;32m----> <a href='vscode-notebook-cell:/Users/pinglab/Documents/irsyadadam/omics_similarity_network_fusion/network_creation/network_create.ipynb#X12sZmlsZQ%3D%3D?line=1'>2</a>\u001b[0m     driver\u001b[39m.\u001b[39;49msession()\u001b[39m.\u001b[39;49mexecute_write(create_nodes, metadata[\u001b[39m\"\u001b[39;49m\u001b[39mindex\u001b[39;49m\u001b[39m\"\u001b[39;49m][i], metadata[\u001b[39m\"\u001b[39;49m\u001b[39morig.ident\u001b[39;49m\u001b[39m\"\u001b[39;49m][i], metadata[\u001b[39m\"\u001b[39;49m\u001b[39mcell_day\u001b[39;49m\u001b[39m\"\u001b[39;49m][i], metadata[\u001b[39m\"\u001b[39;49m\u001b[39mexperiment\u001b[39;49m\u001b[39m\"\u001b[39;49m][i])\n",
      "File \u001b[0;32m~/opt/anaconda3/envs/omics_network_creation/lib/python3.10/site-packages/neo4j/_sync/work/session.py:702\u001b[0m, in \u001b[0;36mSession.execute_write\u001b[0;34m(self, transaction_function, *args, **kwargs)\u001b[0m\n\u001b[1;32m    658\u001b[0m \u001b[39mdef\u001b[39;00m \u001b[39mexecute_write\u001b[39m(\n\u001b[1;32m    659\u001b[0m     \u001b[39mself\u001b[39m,\n\u001b[1;32m    660\u001b[0m     transaction_function: t\u001b[39m.\u001b[39mCallable[\n\u001b[0;32m   (...)\u001b[0m\n\u001b[1;32m    663\u001b[0m     \u001b[39m*\u001b[39margs: _P\u001b[39m.\u001b[39margs,  \u001b[39m*\u001b[39m\u001b[39m*\u001b[39mkwargs: _P\u001b[39m.\u001b[39mkwargs\n\u001b[1;32m    664\u001b[0m ) \u001b[39m-\u001b[39m\u001b[39m>\u001b[39m _R:\n\u001b[1;32m    665\u001b[0m     \u001b[39m\"\"\"Execute a unit of work in a managed write transaction.\u001b[39;00m\n\u001b[1;32m    666\u001b[0m \n\u001b[1;32m    667\u001b[0m \u001b[39m    .. note::\u001b[39;00m\n\u001b[0;32m   (...)\u001b[0m\n\u001b[1;32m    700\u001b[0m \u001b[39m    .. versionadded:: 5.0\u001b[39;00m\n\u001b[1;32m    701\u001b[0m \u001b[39m    \"\"\"\u001b[39;00m\n\u001b[0;32m--> 702\u001b[0m     \u001b[39mreturn\u001b[39;00m \u001b[39mself\u001b[39;49m\u001b[39m.\u001b[39;49m_run_transaction(\n\u001b[1;32m    703\u001b[0m         WRITE_ACCESS, transaction_function, \u001b[39m*\u001b[39;49margs, \u001b[39m*\u001b[39;49m\u001b[39m*\u001b[39;49mkwargs\n\u001b[1;32m    704\u001b[0m     )\n",
      "File \u001b[0;32m~/opt/anaconda3/envs/omics_network_creation/lib/python3.10/site-packages/neo4j/_sync/work/session.py:481\u001b[0m, in \u001b[0;36mSession._run_transaction\u001b[0;34m(self, access_mode, transaction_function, *args, **kwargs)\u001b[0m\n\u001b[1;32m    479\u001b[0m tx \u001b[39m=\u001b[39m \u001b[39mself\u001b[39m\u001b[39m.\u001b[39m_transaction\n\u001b[1;32m    480\u001b[0m \u001b[39mtry\u001b[39;00m:\n\u001b[0;32m--> 481\u001b[0m     result \u001b[39m=\u001b[39m transaction_function(tx, \u001b[39m*\u001b[39;49margs, \u001b[39m*\u001b[39;49m\u001b[39m*\u001b[39;49mkwargs)\n\u001b[1;32m    482\u001b[0m \u001b[39mexcept\u001b[39;00m asyncio\u001b[39m.\u001b[39mCancelledError:\n\u001b[1;32m    483\u001b[0m     \u001b[39m# if cancellation callback has not been called yet:\u001b[39;00m\n\u001b[1;32m    484\u001b[0m     \u001b[39mif\u001b[39;00m \u001b[39mself\u001b[39m\u001b[39m.\u001b[39m_transaction \u001b[39mis\u001b[39;00m \u001b[39mnot\u001b[39;00m \u001b[39mNone\u001b[39;00m:\n",
      "\u001b[1;32m/Users/pinglab/Documents/irsyadadam/omics_similarity_network_fusion/network_creation/network_create.ipynb Cell 14\u001b[0m in \u001b[0;36mcreate_nodes\u001b[0;34m(tx, uid, orig_ident, cell_day, experiment)\u001b[0m\n\u001b[1;32m      <a href='vscode-notebook-cell:/Users/pinglab/Documents/irsyadadam/omics_similarity_network_fusion/network_creation/network_create.ipynb#X12sZmlsZQ%3D%3D?line=0'>1</a>\u001b[0m \u001b[39mdef\u001b[39;00m \u001b[39mcreate_nodes\u001b[39m(tx, uid, orig_ident, cell_day, experiment) \u001b[39m-\u001b[39m\u001b[39m>\u001b[39m  \u001b[39mNone\u001b[39;00m:\n\u001b[1;32m      <a href='vscode-notebook-cell:/Users/pinglab/Documents/irsyadadam/omics_similarity_network_fusion/network_creation/network_create.ipynb#X12sZmlsZQ%3D%3D?line=1'>2</a>\u001b[0m     query \u001b[39m=\u001b[39m \u001b[39m\"\u001b[39m\u001b[39mMERGE (p:cardiomyocite \u001b[39m\u001b[39m{\u001b[39m\u001b[39mid: $uid, orig_ident: $orig_ident, cell_day: $cell_day, experiment: $experiment})\u001b[39m\u001b[39m\"\u001b[39m\n\u001b[0;32m----> <a href='vscode-notebook-cell:/Users/pinglab/Documents/irsyadadam/omics_similarity_network_fusion/network_creation/network_create.ipynb#X12sZmlsZQ%3D%3D?line=2'>3</a>\u001b[0m     tx\u001b[39m.\u001b[39;49mrun(query, uid \u001b[39m=\u001b[39;49m uid, orig_ident \u001b[39m=\u001b[39;49m orig_ident, cell_day \u001b[39m=\u001b[39;49m cell_day, experiment \u001b[39m=\u001b[39;49m experiment)\n",
      "File \u001b[0;32m~/opt/anaconda3/envs/omics_network_creation/lib/python3.10/site-packages/neo4j/_sync/work/transaction.py:150\u001b[0m, in \u001b[0;36mTransactionBase.run\u001b[0;34m(self, query, parameters, **kwparameters)\u001b[0m\n\u001b[1;32m    144\u001b[0m result \u001b[39m=\u001b[39m Result(\n\u001b[1;32m    145\u001b[0m     \u001b[39mself\u001b[39m\u001b[39m.\u001b[39m_connection, \u001b[39mself\u001b[39m\u001b[39m.\u001b[39m_fetch_size, \u001b[39mself\u001b[39m\u001b[39m.\u001b[39m_result_on_closed_handler,\n\u001b[1;32m    146\u001b[0m     \u001b[39mself\u001b[39m\u001b[39m.\u001b[39m_error_handler\n\u001b[1;32m    147\u001b[0m )\n\u001b[1;32m    148\u001b[0m \u001b[39mself\u001b[39m\u001b[39m.\u001b[39m_results\u001b[39m.\u001b[39mappend(result)\n\u001b[0;32m--> 150\u001b[0m result\u001b[39m.\u001b[39;49m_tx_ready_run(query, parameters, \u001b[39m*\u001b[39;49m\u001b[39m*\u001b[39;49mkwparameters)\n\u001b[1;32m    152\u001b[0m \u001b[39mreturn\u001b[39;00m result\n",
      "File \u001b[0;32m~/opt/anaconda3/envs/omics_network_creation/lib/python3.10/site-packages/neo4j/_sync/work/result.py:113\u001b[0m, in \u001b[0;36mResult._tx_ready_run\u001b[0;34m(self, query, parameters, **kwargs)\u001b[0m\n\u001b[1;32m    109\u001b[0m \u001b[39mdef\u001b[39;00m \u001b[39m_tx_ready_run\u001b[39m(\u001b[39mself\u001b[39m, query, parameters, \u001b[39m*\u001b[39m\u001b[39m*\u001b[39mkwargs):\n\u001b[1;32m    110\u001b[0m     \u001b[39m# BEGIN+RUN does not carry any extra on the RUN message.\u001b[39;00m\n\u001b[1;32m    111\u001b[0m     \u001b[39m# BEGIN {extra}\u001b[39;00m\n\u001b[1;32m    112\u001b[0m     \u001b[39m# RUN \"query\" {parameters} {extra}\u001b[39;00m\n\u001b[0;32m--> 113\u001b[0m     \u001b[39mself\u001b[39;49m\u001b[39m.\u001b[39;49m_run(\n\u001b[1;32m    114\u001b[0m         query, parameters, \u001b[39mNone\u001b[39;49;00m, \u001b[39mNone\u001b[39;49;00m, \u001b[39mNone\u001b[39;49;00m, \u001b[39mNone\u001b[39;49;00m, \u001b[39m*\u001b[39;49m\u001b[39m*\u001b[39;49mkwargs\n\u001b[1;32m    115\u001b[0m     )\n",
      "File \u001b[0;32m~/opt/anaconda3/envs/omics_network_creation/lib/python3.10/site-packages/neo4j/_sync/work/result.py:164\u001b[0m, in \u001b[0;36mResult._run\u001b[0;34m(self, query, parameters, db, imp_user, access_mode, bookmarks, **kwargs)\u001b[0m\n\u001b[1;32m    162\u001b[0m \u001b[39mself\u001b[39m\u001b[39m.\u001b[39m_pull()\n\u001b[1;32m    163\u001b[0m \u001b[39mself\u001b[39m\u001b[39m.\u001b[39m_connection\u001b[39m.\u001b[39msend_all()\n\u001b[0;32m--> 164\u001b[0m \u001b[39mself\u001b[39;49m\u001b[39m.\u001b[39;49m_attach()\n",
      "File \u001b[0;32m~/opt/anaconda3/envs/omics_network_creation/lib/python3.10/site-packages/neo4j/_sync/work/result.py:272\u001b[0m, in \u001b[0;36mResult._attach\u001b[0;34m(self)\u001b[0m\n\u001b[1;32m    270\u001b[0m \u001b[39mif\u001b[39;00m \u001b[39mself\u001b[39m\u001b[39m.\u001b[39m_exhausted \u001b[39mis\u001b[39;00m \u001b[39mFalse\u001b[39;00m:\n\u001b[1;32m    271\u001b[0m     \u001b[39mwhile\u001b[39;00m \u001b[39mself\u001b[39m\u001b[39m.\u001b[39m_attached \u001b[39mis\u001b[39;00m \u001b[39mFalse\u001b[39;00m:\n\u001b[0;32m--> 272\u001b[0m         \u001b[39mself\u001b[39;49m\u001b[39m.\u001b[39;49m_connection\u001b[39m.\u001b[39;49mfetch_message()\n",
      "File \u001b[0;32m~/opt/anaconda3/envs/omics_network_creation/lib/python3.10/site-packages/neo4j/_sync/io/_common.py:178\u001b[0m, in \u001b[0;36mConnectionErrorHandler.__getattr__.<locals>.outer.<locals>.inner\u001b[0;34m(*args, **kwargs)\u001b[0m\n\u001b[1;32m    176\u001b[0m \u001b[39mdef\u001b[39;00m \u001b[39minner\u001b[39m(\u001b[39m*\u001b[39margs, \u001b[39m*\u001b[39m\u001b[39m*\u001b[39mkwargs):\n\u001b[1;32m    177\u001b[0m     \u001b[39mtry\u001b[39;00m:\n\u001b[0;32m--> 178\u001b[0m         func(\u001b[39m*\u001b[39;49margs, \u001b[39m*\u001b[39;49m\u001b[39m*\u001b[39;49mkwargs)\n\u001b[1;32m    179\u001b[0m     \u001b[39mexcept\u001b[39;00m (Neo4jError, ServiceUnavailable, SessionExpired) \u001b[39mas\u001b[39;00m exc:\n\u001b[1;32m    180\u001b[0m         \u001b[39massert\u001b[39;00m \u001b[39mnot\u001b[39;00m asyncio\u001b[39m.\u001b[39miscoroutinefunction(\u001b[39mself\u001b[39m\u001b[39m.\u001b[39m__on_error)\n",
      "File \u001b[0;32m~/opt/anaconda3/envs/omics_network_creation/lib/python3.10/site-packages/neo4j/_sync/io/_bolt.py:652\u001b[0m, in \u001b[0;36mBolt.fetch_message\u001b[0;34m(self)\u001b[0m\n\u001b[1;32m    649\u001b[0m     \u001b[39mreturn\u001b[39;00m \u001b[39m0\u001b[39m, \u001b[39m0\u001b[39m\n\u001b[1;32m    651\u001b[0m \u001b[39m# Receive exactly one message\u001b[39;00m\n\u001b[0;32m--> 652\u001b[0m tag, fields \u001b[39m=\u001b[39m \u001b[39mself\u001b[39;49m\u001b[39m.\u001b[39;49minbox\u001b[39m.\u001b[39;49mpop(\n\u001b[1;32m    653\u001b[0m     hydration_hooks\u001b[39m=\u001b[39;49m\u001b[39mself\u001b[39;49m\u001b[39m.\u001b[39;49mresponses[\u001b[39m0\u001b[39;49m]\u001b[39m.\u001b[39;49mhydration_hooks\n\u001b[1;32m    654\u001b[0m )\n\u001b[1;32m    655\u001b[0m res \u001b[39m=\u001b[39m \u001b[39mself\u001b[39m\u001b[39m.\u001b[39m_process_message(tag, fields)\n\u001b[1;32m    656\u001b[0m \u001b[39mself\u001b[39m\u001b[39m.\u001b[39midle_since \u001b[39m=\u001b[39m perf_counter()\n",
      "File \u001b[0;32m~/opt/anaconda3/envs/omics_network_creation/lib/python3.10/site-packages/neo4j/_sync/io/_common.py:74\u001b[0m, in \u001b[0;36mInbox.pop\u001b[0;34m(self, hydration_hooks)\u001b[0m\n\u001b[1;32m     73\u001b[0m \u001b[39mdef\u001b[39;00m \u001b[39mpop\u001b[39m(\u001b[39mself\u001b[39m, hydration_hooks):\n\u001b[0;32m---> 74\u001b[0m     \u001b[39mself\u001b[39;49m\u001b[39m.\u001b[39;49m_buffer_one_chunk()\n\u001b[1;32m     75\u001b[0m     \u001b[39mtry\u001b[39;00m:\n\u001b[1;32m     76\u001b[0m         size, tag \u001b[39m=\u001b[39m \u001b[39mself\u001b[39m\u001b[39m.\u001b[39m_unpacker\u001b[39m.\u001b[39munpack_structure_header()\n",
      "File \u001b[0;32m~/opt/anaconda3/envs/omics_network_creation/lib/python3.10/site-packages/neo4j/_sync/io/_common.py:53\u001b[0m, in \u001b[0;36mInbox._buffer_one_chunk\u001b[0;34m(self)\u001b[0m\n\u001b[1;32m     50\u001b[0m \u001b[39mwhile\u001b[39;00m \u001b[39mTrue\u001b[39;00m:\n\u001b[1;32m     51\u001b[0m     \u001b[39mwhile\u001b[39;00m chunk_size \u001b[39m==\u001b[39m \u001b[39m0\u001b[39m:\n\u001b[1;32m     52\u001b[0m         \u001b[39m# Determine the chunk size and skip noop\u001b[39;00m\n\u001b[0;32m---> 53\u001b[0m         receive_into_buffer(\u001b[39mself\u001b[39;49m\u001b[39m.\u001b[39;49m_socket, \u001b[39mself\u001b[39;49m\u001b[39m.\u001b[39;49m_buffer, \u001b[39m2\u001b[39;49m)\n\u001b[1;32m     54\u001b[0m         chunk_size \u001b[39m=\u001b[39m \u001b[39mself\u001b[39m\u001b[39m.\u001b[39m_buffer\u001b[39m.\u001b[39mpop_u16()\n\u001b[1;32m     55\u001b[0m         \u001b[39mif\u001b[39;00m chunk_size \u001b[39m==\u001b[39m \u001b[39m0\u001b[39m:\n",
      "File \u001b[0;32m~/opt/anaconda3/envs/omics_network_creation/lib/python3.10/site-packages/neo4j/_sync/io/_common.py:290\u001b[0m, in \u001b[0;36mreceive_into_buffer\u001b[0;34m(sock, buffer, n_bytes)\u001b[0m\n\u001b[1;32m    288\u001b[0m \u001b[39mwith\u001b[39;00m \u001b[39mmemoryview\u001b[39m(buffer\u001b[39m.\u001b[39mdata) \u001b[39mas\u001b[39;00m view:\n\u001b[1;32m    289\u001b[0m     \u001b[39mwhile\u001b[39;00m buffer\u001b[39m.\u001b[39mused \u001b[39m<\u001b[39m end:\n\u001b[0;32m--> 290\u001b[0m         n \u001b[39m=\u001b[39m sock\u001b[39m.\u001b[39;49mrecv_into(view[buffer\u001b[39m.\u001b[39;49mused:end], end \u001b[39m-\u001b[39;49m buffer\u001b[39m.\u001b[39;49mused)\n\u001b[1;32m    291\u001b[0m         \u001b[39mif\u001b[39;00m n \u001b[39m==\u001b[39m \u001b[39m0\u001b[39m:\n\u001b[1;32m    292\u001b[0m             \u001b[39mraise\u001b[39;00m \u001b[39mOSError\u001b[39;00m(\u001b[39m\"\u001b[39m\u001b[39mNo data\u001b[39m\u001b[39m\"\u001b[39m)\n",
      "File \u001b[0;32m~/opt/anaconda3/envs/omics_network_creation/lib/python3.10/site-packages/neo4j/_async_compat/network/_bolt_socket.py:469\u001b[0m, in \u001b[0;36mBoltSocket.recv_into\u001b[0;34m(self, buffer, nbytes)\u001b[0m\n\u001b[1;32m    468\u001b[0m \u001b[39mdef\u001b[39;00m \u001b[39mrecv_into\u001b[39m(\u001b[39mself\u001b[39m, buffer, nbytes):\n\u001b[0;32m--> 469\u001b[0m     \u001b[39mreturn\u001b[39;00m \u001b[39mself\u001b[39;49m\u001b[39m.\u001b[39;49m_wait_for_io(\u001b[39mself\u001b[39;49m\u001b[39m.\u001b[39;49m_socket\u001b[39m.\u001b[39;49mrecv_into, buffer, nbytes)\n",
      "File \u001b[0;32m~/opt/anaconda3/envs/omics_network_creation/lib/python3.10/site-packages/neo4j/_async_compat/network/_bolt_socket.py:444\u001b[0m, in \u001b[0;36mBoltSocket._wait_for_io\u001b[0;34m(self, func, *args, **kwargs)\u001b[0m\n\u001b[1;32m    442\u001b[0m \u001b[39mdef\u001b[39;00m \u001b[39m_wait_for_io\u001b[39m(\u001b[39mself\u001b[39m, func, \u001b[39m*\u001b[39margs, \u001b[39m*\u001b[39m\u001b[39m*\u001b[39mkwargs):\n\u001b[1;32m    443\u001b[0m     \u001b[39mif\u001b[39;00m \u001b[39mself\u001b[39m\u001b[39m.\u001b[39m_deadline \u001b[39mis\u001b[39;00m \u001b[39mNone\u001b[39;00m:\n\u001b[0;32m--> 444\u001b[0m         \u001b[39mreturn\u001b[39;00m func(\u001b[39m*\u001b[39;49margs, \u001b[39m*\u001b[39;49m\u001b[39m*\u001b[39;49mkwargs)\n\u001b[1;32m    445\u001b[0m     timeout \u001b[39m=\u001b[39m \u001b[39mself\u001b[39m\u001b[39m.\u001b[39m_socket\u001b[39m.\u001b[39mgettimeout()\n\u001b[1;32m    446\u001b[0m     deadline_timeout \u001b[39m=\u001b[39m \u001b[39mself\u001b[39m\u001b[39m.\u001b[39m_deadline\u001b[39m.\u001b[39mto_timeout()\n",
      "\u001b[0;31mKeyboardInterrupt\u001b[0m: "
     ]
    }
   ],
   "source": [
    "for i in tqdm(range(len(metadata)), desc = \"deploying nodes\"):\n",
    "    driver.session().execute_write(create_nodes, metadata[\"index\"][i], metadata[\"orig.ident\"][i], metadata[\"cell_day\"][i], metadata[\"experiment\"][i])\n"
   ]
  },
  {
   "cell_type": "markdown",
   "metadata": {},
   "source": [
    "## Using Cosine Similarity Scores as Edges"
   ]
  },
  {
   "cell_type": "code",
   "execution_count": null,
   "metadata": {},
   "outputs": [],
   "source": [
    "#TODO:\n",
    "#siliarlity scores as edges\n",
    "#set a threshold!!\n",
    "#add in scdrs similarity scores"
   ]
  },
  {
   "cell_type": "code",
   "execution_count": null,
   "metadata": {},
   "outputs": [],
   "source": []
  },
  {
   "cell_type": "code",
   "execution_count": null,
   "metadata": {},
   "outputs": [],
   "source": []
  }
 ],
 "metadata": {
  "kernelspec": {
   "display_name": "Python 3.10.4 ('omics_network_creation')",
   "language": "python",
   "name": "python3"
  },
  "language_info": {
   "codemirror_mode": {
    "name": "ipython",
    "version": 3
   },
   "file_extension": ".py",
   "mimetype": "text/x-python",
   "name": "python",
   "nbconvert_exporter": "python",
   "pygments_lexer": "ipython3",
   "version": "3.10.4"
  },
  "orig_nbformat": 4,
  "vscode": {
   "interpreter": {
    "hash": "fe81a04a47c56a81f40f0e0ea541ce92b9bfb24cad9b533eb8c7b39e711ff204"
   }
  }
 },
 "nbformat": 4,
 "nbformat_minor": 2
}
